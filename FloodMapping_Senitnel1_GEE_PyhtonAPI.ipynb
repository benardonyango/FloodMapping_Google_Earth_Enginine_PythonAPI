{
  "nbformat": 4,
  "nbformat_minor": 0,
  "metadata": {
    "colab": {
      "name": "sentinel_floods_attemp5_working.ipynb",
      "provenance": [],
      "collapsed_sections": [],
      "authorship_tag": "ABX9TyNKEwfXiG75jIXMoWMeCSuC",
      "include_colab_link": true
    },
    "kernelspec": {
      "name": "python3",
      "display_name": "Python 3"
    }
  },
  "cells": [
    {
      "cell_type": "markdown",
      "metadata": {
        "id": "view-in-github",
        "colab_type": "text"
      },
      "source": [
        "<a href=\"https://colab.research.google.com/github/benardonyango/FloodMapping_Google_Earth_Enginine_PythonAPI/blob/master/FloodMapping_Senitnel1_GEE_PyhtonAPI.ipynb\" target=\"_parent\"><img src=\"https://colab.research.google.com/assets/colab-badge.svg\" alt=\"Open In Colab\"/></a>"
      ]
    },
    {
      "cell_type": "code",
      "metadata": {
        "id": "S5qe7p2nN2MT",
        "colab_type": "code",
        "colab": {}
      },
      "source": [
        "\n",
        "# ---Things to note---\n",
        "\n",
        "#This is a python script that ustilises Google Earth Python API and Sentinel1 images to determine flood extent. \n",
        "#It determines the flood extent by calculating the difference between two periods i.e just before floods and after/during floods. The assumption is that the only things that has changed between the two periods is the added water. \n",
        "#Therefore it is important to choose a period just beofre the floods\n",
        "#Kindly change the Area of Interest and the dates in case you want to run this script for a different area and periods\n",
        "#Run this script in a jupyter notebook environment Google Colab\n",
        "\n",
        "\n",
        "# ---- end ----\n",
        "\n",
        "#Install Google Earth Engine Python API if not installed\n",
        "#!pip install earthengine-api\n",
        "#Install folium if not installed\n",
        "#!pip install folium. Folium enables map visualization\n",
        "#install geehydro if not installed. It allows for the overlay of data on the basemap\n",
        "#!pip install geehydro\n",
        "\n",
        "#import all the installed packages\n",
        "import ee\n",
        "import folium\n",
        "import geehydro"
      ],
      "execution_count": 0,
      "outputs": []
    },
    {
      "cell_type": "code",
      "metadata": {
        "id": "cfUEK7HXOzR8",
        "colab_type": "code",
        "colab": {}
      },
      "source": [
        "## Trigger the authentication of the API flow. You only need to do this once. A link will be generated. Open that link in a new browser and allow access of Earth Engine API to your google account. Ensure you have a GEE account\n",
        "ee.Authenticate()\n",
        "\n",
        "# Initialize the library.\n",
        "ee.Initialize()"
      ],
      "execution_count": 0,
      "outputs": []
    },
    {
      "cell_type": "code",
      "metadata": {
        "id": "k-2X1BayieKm",
        "colab_type": "code",
        "colab": {}
      },
      "source": [
        ""
      ],
      "execution_count": 0,
      "outputs": []
    },
    {
      "cell_type": "code",
      "metadata": {
        "id": "YXXqZB9DPuph",
        "colab_type": "code",
        "colab": {}
      },
      "source": [
        "# Load the Sentinel-1 ImageCollection.\n",
        "\n",
        "\n",
        "#this Area of interest is in the Southern part of Somalia. around River Juba and Shabelle. The area is notorious for flooding during the rainy seasons\n",
        "\n",
        "roi = ee.Geometry.Rectangle(42.106634,-0.893096, 45.732123,5.907894);\n",
        "\n",
        "# Loading sentinel1 images and filtering based on date, Polarization type, bounds Metadata and Instrument Mode. In this case vertical transmit and vertical receive is selected\n",
        "\n",
        "collectionVV = ee.ImageCollection('COPERNICUS/S1_GRD') \\\n",
        "    .filter(ee.Filter.eq('instrumentMode', 'IW')) \\\n",
        "    .filterDate('2020-02-01','2020-05-06') \\\n",
        "    .filter(ee.Filter.listContains('transmitterReceiverPolarisation', 'VV')) \\\n",
        "    .filterBounds(roi) \\\n",
        "    .filterMetadata('resolution_meters', 'equals' , 10) \\\n",
        "    .select('VV');\n",
        "\n",
        "\n",
        "\n",
        "# Loading sentinel1 images and filtering based on date, Polarization type, bounds Metadata and Instrument Mode. In this case vertical transmit and horizontal receive is selected\n",
        "\n",
        "collectionVH = ee.ImageCollection('COPERNICUS/S1_GRD') \\\n",
        "    .filter(ee.Filter.eq('instrumentMode', 'IW')) \\\n",
        "    .filterDate('2020-02-01','2020-05-06') \\\n",
        "    .filter(ee.Filter.listContains('transmitterReceiverPolarisation', 'VH'))\\\n",
        "    .filterMetadata('resolution_meters', 'equals' , 10) \\\n",
        "    .filterBounds(roi) \\\n",
        "    .select('VH');\n",
        "\n",
        "\n",
        "\n",
        "# Load Sentinel-1 C-band SAR Ground Range collection (log scale, VVVH, descending)\n",
        "beforeVVVH = ee.ImageCollection('COPERNICUS/S1_GRD') \\\n",
        "    .filterDate('2020-02-15','2020-03-10') \\\n",
        "    .filter(ee.Filter.eq('instrumentMode', 'IW')) \\\n",
        "    .filterMetadata('transmitterReceiverPolarisation','equals',['VV','VH']) \\\n",
        "    .filterBounds(roi) \\\n",
        "    .select('VV','VH') \\\n",
        "    .mean();\n",
        "beforeVVVH = beforeVVVH.addBands(beforeVVVH.select('VV').divide(beforeVVVH.select('VH'))).rename(['VV','VH','Ratio']);\n",
        "\n",
        "#Load Sentinel-1 C-band SAR Ground Range collection (log scale, VVVH, descending)\n",
        "\n",
        "afterVVVH = ee.ImageCollection('COPERNICUS/S1_GRD') \\\n",
        "    .filterDate('2020-03-20','2020-05-06') \\\n",
        "    .filter(ee.Filter.eq('instrumentMode', 'IW')) \\\n",
        "    .filterMetadata('transmitterReceiverPolarisation','equals',['VV','VH']) \\\n",
        "    .filterBounds(roi) \\\n",
        "    .select('VV','VH') \\\n",
        "    .mean();\n",
        "\n",
        "afterVVVH = afterVVVH.addBands(afterVVVH.select('VV').divide(afterVVVH.select('VH'))).rename(['VV','VH','Ratio']);\n",
        "\n",
        "\n",
        "\n",
        "#Filter by date. Filtering the data just before and during / after the floods. The idea is to get a difference between the two. The resulting layer will to some extent be assumed to be flooded area.\n",
        "beforeVV = collectionVV.filterDate('2020-02-15','2020-03-10').mosaic();\n",
        "afterVV = collectionVV.filterDate('2020-05-01','2020-05-06').mosaic();\n",
        "beforeVH = collectionVH.filterDate('2020-02-15','2020-03-10').mosaic();\n",
        "afterVH = collectionVH.filterDate('2020-05-01','2020-05-06').mosaic();\n",
        "\n",
        "\n",
        "#Apply filter to reduce speckle\n",
        "SMOOTHING_RADIUS = 50;\n",
        "beforeVV_filtered = beforeVV.focal_mean(SMOOTHING_RADIUS, 'circle', 'meters');\n",
        "beforeVH_filtered = beforeVH.focal_mean(SMOOTHING_RADIUS, 'circle', 'meters');\n",
        "afterVV_filtered = afterVV.focal_mean(SMOOTHING_RADIUS, 'circle', 'meters');\n",
        "afterVH_filtered = afterVH.focal_mean(SMOOTHING_RADIUS, 'circle', 'meters');"
      ],
      "execution_count": 0,
      "outputs": []
    },
    {
      "cell_type": "code",
      "metadata": {
        "id": "1Zyjn8RDPObo",
        "colab_type": "code",
        "colab": {}
      },
      "source": [
        "# Adding the centre of the map to a point in the Area of interest\n",
        "\n",
        "Map = folium.Map(location=[44.171549,2.928640], zoom_start=8)\n",
        "Map.setCenter(44.171549,2.928640)\n"
      ],
      "execution_count": 0,
      "outputs": []
    },
    {
      "cell_type": "code",
      "metadata": {
        "id": "BdqEcGM4PQ9w",
        "colab_type": "code",
        "colab": {}
      },
      "source": [
        "#Calculate difference between before and after\n",
        "\n",
        "differenceVH = afterVH_filtered.divide(beforeVH_filtered)\n",
        "\n",
        "#Apply Threshold\n",
        "\n",
        "DIFF_UPPER_THRESHOLD = 1.35\n",
        "differenceVH_thresholded = differenceVH.gt(DIFF_UPPER_THRESHOLD)\n",
        "\n",
        "#Adding datasets to the map\n",
        "#important ones\n",
        "Map.addLayer(differenceVH_thresholded.updateMask(differenceVH_thresholded.clip(roi)),{'palette':\"0000FF\"},'flooded areas - blue',1)\n",
        "Map.addLayer(roi, {'color': 'red'}, 'Area of Interest')\n",
        "\n",
        "\n",
        "#Other datasets. Uncomment the lines below to visualize the data in the map\n",
        "\n",
        "Map.addLayer(beforeVV.clip(roi), {'min':-25,'max':0}, 'Before flood VV', 0)\n",
        "#Map.addLayer(afterVV.clip(roi), {'min':-25,'max':0}, 'After flood VV', 0)\n",
        "#Map.addLayer(beforeVH.clip(roi), {'min':-30,'max':0}, 'Before flood VH', 0)\n",
        "#Map.addLayer(afterVH.clip(roi), {'min':-30,'max':0}, 'After flood VH', 0)\n",
        "#Map.addLayer(beforeVH.addBands(afterVH).addBands(beforeVH).clip(roi), {'min': -30, 'max': -8},'BVH/AVH/BVH composite', 1)\n",
        "#Map.addLayer(beforeVH.addBands(afterVV).addBands(afterVH).clip(roi), {'min': -30, 'max': -8},'BVH/AVV/AVH composite', 1)\n",
        "#Map.addLayer(beforeVV_filtered.clip(roi), {'min':-25,'max':0}, 'Before Flood VV Filtered',0)\n",
        "#Map.addLayer(beforeVH_filtered.clip(roi), {'min':-30,'max':0}, 'Before Flood VH Filtered',0)\n",
        "#Map.addLayer(afterVV_filtered.clip(roi), {'min':-25,'max':0}, 'After Flood VV Filtered',0)\n",
        "#Map.addLayer(afterVH_filtered.clip(roi), {'min':-30,'max':0}, 'After Flood VH Filtered',0)\n",
        "#Map.addLayer(differenceVH.clip(roi), {'min': 0,'max':2},'difference VH filtered', 0)\n"
      ],
      "execution_count": 0,
      "outputs": []
    },
    {
      "cell_type": "code",
      "metadata": {
        "id": "XAz9c05ePVDg",
        "colab_type": "code",
        "colab": {}
      },
      "source": [
        "\n",
        "\n"
      ],
      "execution_count": 0,
      "outputs": []
    },
    {
      "cell_type": "code",
      "metadata": {
        "id": "xXQO2Xd-PYL6",
        "colab_type": "code",
        "colab": {
          "base_uri": "https://localhost:8080/",
          "height": 1000
        },
        "outputId": "cbddd6d0-7c1d-4e52-c25a-6b56d78fc069"
      },
      "source": [
        "#Adding controls to the map\n",
        "Map.setControlVisibility(layerControl=True, fullscreenControl=True, latLngPopup=True)\n",
        "#Displaying the map\n",
        "Map"
      ],
      "execution_count": 144,
      "outputs": [
        {
          "output_type": "execute_result",
          "data": {
            "text/html": [
              "<div style=\"width:100%;\"><div style=\"position:relative;width:100%;height:0;padding-bottom:60%;\"><span style=\"color:#565656\">Make this Notebook Trusted to load map: File -> Trust Notebook</span><iframe src=\"about:blank\" style=\"position:absolute;width:100%;height:100%;left:0;top:0;border:none !important;\" data-html=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 onload=\"this.contentDocument.open();this.contentDocument.write(atob(this.getAttribute('data-html')));this.contentDocument.close();\" allowfullscreen webkitallowfullscreen mozallowfullscreen></iframe></div></div>"
            ],
            "text/plain": [
              "<folium.folium.Map at 0x7f12a6cdbe80>"
            ]
          },
          "metadata": {
            "tags": []
          },
          "execution_count": 144
        }
      ]
    },
    {
      "cell_type": "code",
      "metadata": {
        "id": "868Yh6S0qYdr",
        "colab_type": "code",
        "colab": {}
      },
      "source": [
        ""
      ],
      "execution_count": 0,
      "outputs": []
    }
  ]
}